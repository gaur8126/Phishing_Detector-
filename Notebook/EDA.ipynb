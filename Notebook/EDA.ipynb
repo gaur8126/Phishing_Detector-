{
 "cells": [
  {
   "cell_type": "markdown",
   "metadata": {},
   "source": [
    "##### 1. `Project Setup ` ,  `*`  `🤝`\n",
    "##### 2. `Push data to mongodb & read from the database` \n",
    "##### 3. `Data preprocessing , Feature Engineering `\n",
    "##### 4. `Model training - First on jupyter notebook  after that in modular code `"
   ]
  },
  {
   "cell_type": "code",
   "execution_count": null,
   "metadata": {
    "vscode": {
     "languageId": "plaintext"
    }
   },
   "outputs": [],
   "source": []
  }
 ],
 "metadata": {
  "language_info": {
   "name": "python"
  }
 },
 "nbformat": 4,
 "nbformat_minor": 2
}
